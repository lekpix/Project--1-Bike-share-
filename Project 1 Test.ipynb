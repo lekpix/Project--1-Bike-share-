{
 "cells": [
  {
   "cell_type": "code",
   "execution_count": 1,
   "id": "98a3de8f-beab-4ca5-9f39-402549437a80",
   "metadata": {},
   "outputs": [],
   "source": [
    "import pandas as pd\n",
    "import numpy as np"
   ]
  },
  {
   "cell_type": "code",
   "execution_count": 6,
   "id": "75b9054f-69a5-4e02-a954-6119a7600b1f",
   "metadata": {},
   "outputs": [],
   "source": [
    "filepathjan = 'Resources/JC-202001-citibike-tripdata.csv'\n",
    "filepathfeb = 'Resources/JC-202002-citibike-tripdata.csv'\n",
    "filepathmar = 'Resources/JC-202003-citibike-tripdata.csv'\n",
    "filepathapr = 'Resources/JC-202004-citibike-tripdata.csv'\n",
    "filepathmay = 'Resources/JC-202005-citibike-tripdata.csv'\n",
    "filepathjun = 'Resources/JC-202006-citibike-tripdata.csv'\n",
    "filepathjul = 'Resources/JC-202007-citibike-tripdata.csv'\n",
    "filepathaug = 'Resources/JC-202008-citibike-tripdata.csv'\n",
    "filepathsep = 'Resources/JC-202009-citibike-tripdata.csv'\n",
    "filepathoct = 'Resources/JC-202010-citibike-tripdata.csv'\n",
    "filepathnov = 'Resources/JC-202011-citibike-tripdata.csv'\n",
    "filepathdec = 'Resources/JC-202012-citibike-tripdata.csv'\n",
    "\n",
    "\n",
    "jan_df = pd.read_csv(filepathjan)\n",
    "feb_df = pd.read_csv(filepathfeb)\n",
    "mar_df = pd.read_csv(filepathmar)\n",
    "apr_df = pd.read_csv(filepathapr)\n",
    "may_df = pd.read_csv(filepathmay)\n",
    "jun_df = pd.read_csv(filepathjun)\n",
    "jul_df = pd.read_csv(filepathjul)\n",
    "aug_df = pd.read_csv(filepathaug)\n",
    "sep_df = pd.read_csv(filepathsep)\n",
    "oct_df = pd.read_csv(filepathoct)\n",
    "nov_df = pd.read_csv(filepathnov)\n",
    "dec_df = pd.read_csv(filepathdec)\n",
    "\n"
   ]
  },
  {
   "cell_type": "code",
   "execution_count": 25,
   "id": "0d467777-6918-47e3-8a9a-6cc95dbe21fa",
   "metadata": {},
   "outputs": [
    {
     "data": {
      "text/html": [
       "<div>\n",
       "<style scoped>\n",
       "    .dataframe tbody tr th:only-of-type {\n",
       "        vertical-align: middle;\n",
       "    }\n",
       "\n",
       "    .dataframe tbody tr th {\n",
       "        vertical-align: top;\n",
       "    }\n",
       "\n",
       "    .dataframe thead th {\n",
       "        text-align: right;\n",
       "    }\n",
       "</style>\n",
       "<table border=\"1\" class=\"dataframe\">\n",
       "  <thead>\n",
       "    <tr style=\"text-align: right;\">\n",
       "      <th></th>\n",
       "      <th>starttime_x</th>\n",
       "      <th>starttime_y</th>\n",
       "      <th>bikeid</th>\n",
       "    </tr>\n",
       "  </thead>\n",
       "  <tbody>\n",
       "    <tr>\n",
       "      <th>0</th>\n",
       "      <td>2020-01-01 00:04:50.1920</td>\n",
       "      <td>NaN</td>\n",
       "      <td>29444</td>\n",
       "    </tr>\n",
       "    <tr>\n",
       "      <th>1</th>\n",
       "      <td>2020-01-01 03:38:23.0290</td>\n",
       "      <td>NaN</td>\n",
       "      <td>29444</td>\n",
       "    </tr>\n",
       "    <tr>\n",
       "      <th>2</th>\n",
       "      <td>2020-01-01 10:29:10.7700</td>\n",
       "      <td>NaN</td>\n",
       "      <td>29444</td>\n",
       "    </tr>\n",
       "    <tr>\n",
       "      <th>3</th>\n",
       "      <td>2020-01-01 11:45:22.8200</td>\n",
       "      <td>NaN</td>\n",
       "      <td>29444</td>\n",
       "    </tr>\n",
       "    <tr>\n",
       "      <th>4</th>\n",
       "      <td>2020-01-02 04:46:52.4740</td>\n",
       "      <td>NaN</td>\n",
       "      <td>29444</td>\n",
       "    </tr>\n",
       "  </tbody>\n",
       "</table>\n",
       "</div>"
      ],
      "text/plain": [
       "                starttime_x starttime_y  bikeid\n",
       "0  2020-01-01 00:04:50.1920         NaN   29444\n",
       "1  2020-01-01 03:38:23.0290         NaN   29444\n",
       "2  2020-01-01 10:29:10.7700         NaN   29444\n",
       "3  2020-01-01 11:45:22.8200         NaN   29444\n",
       "4  2020-01-02 04:46:52.4740         NaN   29444"
      ]
     },
     "execution_count": 25,
     "metadata": {},
     "output_type": "execute_result"
    }
   ],
   "source": [
    "df = pd.merge(\n",
    "    jan_df,feb_df, on = \"bikeid\", how = \"outer\")\n",
    "\n",
    "clean_df = df[['starttime_x', 'starttime_y','bikeid']]\n",
    "\n",
    "\n",
    "clean_df.head()"
   ]
  },
  {
   "cell_type": "code",
   "execution_count": 66,
   "id": "1788aa35-6898-4356-94fe-cc1477fb76a8",
   "metadata": {},
   "outputs": [
    {
     "name": "stdout",
     "output_type": "stream",
     "text": [
      "hello\n"
     ]
    }
   ],
   "source": [
    "merge_1 = pd.merge(\n",
    "    jan_df,feb_df, on = [\"starttime\",\"bikeid\"], how = \"outer\")\n",
    "merge_2 = pd.merge(\n",
    "    merge_1,mar_df, on = [\"starttime\",\"bikeid\"], how = \"outer\")\n",
    "merge_3 = pd.merge(\n",
    "    merge_2,apr_df, on = [\"starttime\",\"bikeid\"], how = \"outer\")\n",
    "merge_4 = pd.merge(\n",
    "    merge_3,may_df, on = [\"starttime\",\"bikeid\"], how = \"outer\")\n",
    "merge_5 = pd.merge(\n",
    "    merge_4,jun_df, on = [\"starttime\",\"bikeid\"], how = \"outer\")\n",
    "merge_6 = pd.merge(\n",
    "    merge_5,jul_df, on = [\"starttime\",\"bikeid\"], how = \"outer\")\n",
    "merge_7 = pd.merge(\n",
    "    merge_6,aug_df, on = [\"starttime\",\"bikeid\"], how = \"outer\")\n",
    "merge_8 = pd.merge(\n",
    "    merge_7,sep_df, on = [\"starttime\",\"bikeid\"], how = \"outer\")\n",
    "merge_9 = pd.merge(\n",
    "    merge_8,oct_df, on = [\"starttime\",\"bikeid\"], how = \"outer\")\n",
    "merge_10 = pd.merge(\n",
    "    merge_9,nov_df, on = [\"starttime\",\"bikeid\"], how = \"outer\")\n",
    "merge_11 = pd.merge(\n",
    "    merge_10,dec_df, on = [\"starttime\",\"bikeid\"], how = \"outer\")\n",
    "\n",
    "\n",
    "\n",
    "clean_2_series = test_df.loc[:,['starttime','bikeid']]\n",
    "clean_2_series.loc[clean_2_series['bikeid'] == '']"
   ]
  },
  {
   "cell_type": "code",
   "execution_count": 83,
   "id": "98b509c9-3783-4fa8-9a19-27ef911e8b05",
   "metadata": {},
   "outputs": [
    {
     "data": {
      "text/html": [
       "<div>\n",
       "<style scoped>\n",
       "    .dataframe tbody tr th:only-of-type {\n",
       "        vertical-align: middle;\n",
       "    }\n",
       "\n",
       "    .dataframe tbody tr th {\n",
       "        vertical-align: top;\n",
       "    }\n",
       "\n",
       "    .dataframe thead th {\n",
       "        text-align: right;\n",
       "    }\n",
       "</style>\n",
       "<table border=\"1\" class=\"dataframe\">\n",
       "  <thead>\n",
       "    <tr style=\"text-align: right;\">\n",
       "      <th></th>\n",
       "      <th>starttime</th>\n",
       "      <th>bikeid</th>\n",
       "    </tr>\n",
       "  </thead>\n",
       "  <tbody>\n",
       "    <tr>\n",
       "      <th>33288</th>\n",
       "      <td>2020-02-10 11:19:50.6910</td>\n",
       "      <td>42528</td>\n",
       "    </tr>\n",
       "    <tr>\n",
       "      <th>33597</th>\n",
       "      <td>2020-02-10 23:27:37.9530</td>\n",
       "      <td>42528</td>\n",
       "    </tr>\n",
       "    <tr>\n",
       "      <th>33599</th>\n",
       "      <td>2020-02-10 23:34:46.7240</td>\n",
       "      <td>42528</td>\n",
       "    </tr>\n",
       "    <tr>\n",
       "      <th>33603</th>\n",
       "      <td>2020-02-10 23:58:49.5530</td>\n",
       "      <td>42528</td>\n",
       "    </tr>\n",
       "    <tr>\n",
       "      <th>33606</th>\n",
       "      <td>2020-02-11 00:45:28.2200</td>\n",
       "      <td>42528</td>\n",
       "    </tr>\n",
       "    <tr>\n",
       "      <th>...</th>\n",
       "      <td>...</td>\n",
       "      <td>...</td>\n",
       "    </tr>\n",
       "    <tr>\n",
       "      <th>319934</th>\n",
       "      <td>2020-12-20 16:41:41.5970</td>\n",
       "      <td>42528</td>\n",
       "    </tr>\n",
       "    <tr>\n",
       "      <th>321313</th>\n",
       "      <td>2020-12-24 19:39:59.4340</td>\n",
       "      <td>42528</td>\n",
       "    </tr>\n",
       "    <tr>\n",
       "      <th>321579</th>\n",
       "      <td>2020-12-26 15:21:15.0350</td>\n",
       "      <td>42528</td>\n",
       "    </tr>\n",
       "    <tr>\n",
       "      <th>321588</th>\n",
       "      <td>2020-12-26 15:36:08.7820</td>\n",
       "      <td>42528</td>\n",
       "    </tr>\n",
       "    <tr>\n",
       "      <th>321609</th>\n",
       "      <td>2020-12-26 16:47:14.7800</td>\n",
       "      <td>42528</td>\n",
       "    </tr>\n",
       "  </tbody>\n",
       "</table>\n",
       "<p>585 rows × 2 columns</p>\n",
       "</div>"
      ],
      "text/plain": [
       "                       starttime  bikeid\n",
       "33288   2020-02-10 11:19:50.6910   42528\n",
       "33597   2020-02-10 23:27:37.9530   42528\n",
       "33599   2020-02-10 23:34:46.7240   42528\n",
       "33603   2020-02-10 23:58:49.5530   42528\n",
       "33606   2020-02-11 00:45:28.2200   42528\n",
       "...                          ...     ...\n",
       "319934  2020-12-20 16:41:41.5970   42528\n",
       "321313  2020-12-24 19:39:59.4340   42528\n",
       "321579  2020-12-26 15:21:15.0350   42528\n",
       "321588  2020-12-26 15:36:08.7820   42528\n",
       "321609  2020-12-26 16:47:14.7800   42528\n",
       "\n",
       "[585 rows x 2 columns]"
      ]
     },
     "execution_count": 83,
     "metadata": {},
     "output_type": "execute_result"
    }
   ],
   "source": [
    "bike_count_df = merge_11.loc[:,['starttime','bikeid']]\n",
    "bike_count_df.loc[bike_count_df['bikeid'] == 42528]"
   ]
  },
  {
   "cell_type": "code",
   "execution_count": 73,
   "id": "ff825711-519f-4640-a0bf-ac3259bb577e",
   "metadata": {},
   "outputs": [
    {
     "data": {
      "text/plain": [
       "tripduration_x             float64\n",
       "starttime                   object\n",
       "stoptime_x                  object\n",
       "start station id_x         float64\n",
       "start station name_x        object\n",
       "                            ...   \n",
       "end station latitude_y     float64\n",
       "end station longitude_y    float64\n",
       "usertype_y                  object\n",
       "birth year_y               float64\n",
       "gender_y                   float64\n",
       "Length: 158, dtype: object"
      ]
     },
     "execution_count": 73,
     "metadata": {},
     "output_type": "execute_result"
    }
   ],
   "source": [
    "merge_11.dtypes"
   ]
  },
  {
   "cell_type": "code",
   "execution_count": null,
   "id": "65137db0-9399-4baf-97d2-ddf641bbaf6a",
   "metadata": {},
   "outputs": [],
   "source": []
  }
 ],
 "metadata": {
  "kernelspec": {
   "display_name": "Python 3",
   "language": "python",
   "name": "python3"
  },
  "language_info": {
   "codemirror_mode": {
    "name": "ipython",
    "version": 3
   },
   "file_extension": ".py",
   "mimetype": "text/x-python",
   "name": "python",
   "nbconvert_exporter": "python",
   "pygments_lexer": "ipython3",
   "version": "3.8.8"
  }
 },
 "nbformat": 4,
 "nbformat_minor": 5
}
