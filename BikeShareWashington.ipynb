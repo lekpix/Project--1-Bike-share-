{
 "cells": [
  {
   "cell_type": "code",
   "execution_count": 36,
   "id": "3eba4179",
   "metadata": {},
   "outputs": [],
   "source": [
    "#Dependencies\n",
    "import matplotlib.pyplot as plt\n",
    "import pandas as pd\n",
    "import numpy as np\n",
    "import requests\n",
    "import csv\n",
    "import time\n",
    "import scipy.stats as st\n",
    "from scipy.stats import linregress\n",
    "import scipy.stats as stats\n"
   ]
  },
  {
   "cell_type": "code",
   "execution_count": 37,
   "id": "0e78191a",
   "metadata": {},
   "outputs": [
    {
     "name": "stdout",
     "output_type": "stream",
     "text": [
      "   instant      dteday  season  yr  mnth  hr  holiday  weekday  workingday  \\\n",
      "0        1  2011-01-01       1   0     1   0        0        6           0   \n",
      "1        2  2011-01-01       1   0     1   1        0        6           0   \n",
      "2        3  2011-01-01       1   0     1   2        0        6           0   \n",
      "3        4  2011-01-01       1   0     1   3        0        6           0   \n",
      "4        5  2011-01-01       1   0     1   4        0        6           0   \n",
      "\n",
      "   weathersit  temp   atemp   hum  windspeed  casual  registered  cnt  \n",
      "0           1  0.24  0.2879  0.81        0.0       3          13   16  \n",
      "1           1  0.22  0.2727  0.80        0.0       8          32   40  \n",
      "2           1  0.22  0.2727  0.80        0.0       5          27   32  \n",
      "3           1  0.24  0.2879  0.75        0.0       3          10   13  \n",
      "4           1  0.24  0.2879  0.75        0.0       0           1    1  \n"
     ]
    }
   ],
   "source": [
    "## Output File (CSV)\n",
    "data_file_day = \"archive/day.csv\"\n",
    "data_file_hour=\"archive/hour.csv\"\n",
    "#Creating DataFrame\n",
    "Bike_Share_Day=pd.read_csv(data_file_day)\n",
    "Bike_Share_Hour=pd.read_csv(data_file_hour)\n",
    "#print(Bike_Share_Day.head())\n",
    "print(Bike_Share_Hour.head())"
   ]
  },
  {
   "cell_type": "markdown",
   "id": "3f9b9123",
   "metadata": {},
   "source": [
    "# Time of day vs Bike Rentals"
   ]
  },
  {
   "cell_type": "code",
   "execution_count": 38,
   "id": "7de2d575",
   "metadata": {},
   "outputs": [
    {
     "data": {
      "text/html": [
       "<div>\n",
       "<style scoped>\n",
       "    .dataframe tbody tr th:only-of-type {\n",
       "        vertical-align: middle;\n",
       "    }\n",
       "\n",
       "    .dataframe tbody tr th {\n",
       "        vertical-align: top;\n",
       "    }\n",
       "\n",
       "    .dataframe thead th {\n",
       "        text-align: right;\n",
       "    }\n",
       "</style>\n",
       "<table border=\"1\" class=\"dataframe\">\n",
       "  <thead>\n",
       "    <tr style=\"text-align: right;\">\n",
       "      <th></th>\n",
       "      <th>Bikes Count</th>\n",
       "    </tr>\n",
       "    <tr>\n",
       "      <th>hr</th>\n",
       "      <th></th>\n",
       "    </tr>\n",
       "  </thead>\n",
       "  <tbody>\n",
       "    <tr>\n",
       "      <th>0</th>\n",
       "      <td>726</td>\n",
       "    </tr>\n",
       "    <tr>\n",
       "      <th>1</th>\n",
       "      <td>724</td>\n",
       "    </tr>\n",
       "    <tr>\n",
       "      <th>2</th>\n",
       "      <td>715</td>\n",
       "    </tr>\n",
       "    <tr>\n",
       "      <th>3</th>\n",
       "      <td>697</td>\n",
       "    </tr>\n",
       "    <tr>\n",
       "      <th>4</th>\n",
       "      <td>697</td>\n",
       "    </tr>\n",
       "  </tbody>\n",
       "</table>\n",
       "</div>"
      ],
      "text/plain": [
       "    Bikes Count\n",
       "hr             \n",
       "0           726\n",
       "1           724\n",
       "2           715\n",
       "3           697\n",
       "4           697"
      ]
     },
     "execution_count": 38,
     "metadata": {},
     "output_type": "execute_result"
    }
   ],
   "source": [
    "Bike_Hour_Count=Bike_Share_Hour.groupby(Bike_Share_Hour['hr']).count()['cnt']\n",
    "Bike_Hour_Count_df=pd.DataFrame({'Bikes Count':Bike_Hour_Count})\n",
    "Bike_Hour_Count_df.head()"
   ]
  },
  {
   "cell_type": "code",
   "execution_count": null,
   "id": "3f8d4eeb",
   "metadata": {},
   "outputs": [],
   "source": []
  },
  {
   "cell_type": "markdown",
   "id": "8d2e8aa2",
   "metadata": {},
   "source": [
    "# Weather patterns vs Bike Rentals"
   ]
  },
  {
   "cell_type": "code",
   "execution_count": null,
   "id": "7b9fcf1f",
   "metadata": {},
   "outputs": [],
   "source": []
  },
  {
   "cell_type": "markdown",
   "id": "8a477127",
   "metadata": {},
   "source": [
    "# Seasons vs Bike Rentals"
   ]
  },
  {
   "cell_type": "code",
   "execution_count": null,
   "id": "90d29c0d",
   "metadata": {},
   "outputs": [],
   "source": []
  },
  {
   "cell_type": "markdown",
   "id": "bdbe5d84",
   "metadata": {},
   "source": [
    "# Weekday versus Weekend versus Holidays Bike Rentals"
   ]
  },
  {
   "cell_type": "code",
   "execution_count": 59,
   "id": "a2fd90a7",
   "metadata": {},
   "outputs": [
    {
     "name": "stdout",
     "output_type": "stream",
     "text": [
      "Working Days Count: 2292410, Weekend Days Count: 921834 and Holidays Count: 78435\n",
      " OG Counts 3292679, OG verification 3292679\n",
      " Workingdays 500, Weekends 210, Holidays 21\n",
      " Total Days 731\n",
      " Working Days Average Ride Count: 4584.82, Weekend Days Average Ride Count: 4389.685714285714, Holidays Average Ride Count: 3735.0\n"
     ]
    }
   ],
   "source": [
    "\n",
    "# Clean up the df to only have types of days and counts\n",
    "Bike_Share_Day_Drop = Bike_Share_Day[['weekday', 'workingday', 'holiday', 'cnt']]\n",
    "Bike_Share_Day_Drop['cnt'].sum()\n",
    "# Number of rentals over the workingdays\n",
    "\n",
    "# Identifying the day types (could alternatively use groupby method)\n",
    "WorkingDay_Bike_Share = Bike_Share_Day_Drop.loc[Bike_Share_Day_Drop['workingday'] == 1]\n",
    "Weekends_Bike_Share = Bike_Share_Day_Drop.loc[(Bike_Share_Day_Drop['weekday'] == 0) | (Bike_Share_Day_Drop['weekday'] == 6)]\n",
    "Holiday_Bike_Share = Bike_Share_Day_Drop.loc[Bike_Share_Day_Drop['holiday'] == 1]\n",
    "\n",
    "# Summing number of rentals per day type\n",
    "WorkingDay_Counts = WorkingDay_Bike_Share['cnt'].sum()\n",
    "WeekendsDay_Counts = Weekends_Bike_Share['cnt'].sum()\n",
    "HolidayDays_Counts = Holiday_Bike_Share['cnt'].sum()\n",
    "\n",
    "# printing results to see what we're working with\n",
    "print(f'Working Days Count: {WorkingDay_Counts}, Weekend Days Count: {WeekendsDay_Counts} and Holidays Count: {HolidayDays_Counts}')\n",
    "\n",
    "# Verifying counts for sanity check\n",
    "totalbike_counts = Bike_Share_Day_Drop['cnt'].sum()\n",
    "totalbike_counts_2 = WorkingDay_Counts + WeekendsDay_Counts + HolidayDays_Counts\n",
    "print(f' OG Counts {totalbike_counts}, OG verification {totalbike_counts_2}')\n",
    "\n",
    "# getting average counts per diem\n",
    "Number_of_WorkingDays = WorkingDay_Bike_Share['cnt'].count()\n",
    "WorkingDay_Counts_perdiem = WorkingDay_Counts/Number_of_WorkingDays\n",
    "\n",
    "Number_of_Weekend_Days = Weekends_Bike_Share['cnt'].count()\n",
    "WeekendDay_Counts_perdiem = WeekendsDay_Counts/Number_of_Weekend_Days\n",
    "\n",
    "Number_of_Holidays = Holiday_Bike_Share['cnt'].count()\n",
    "HoliDay_Counts_perdiem = HolidayDays_Counts/Number_of_Holidays\n",
    "\n",
    "# printing numbers to see what we're working with\n",
    "print(f' Workingdays {Number_of_WorkingDays}, Weekends {Number_of_Weekend_Days}, Holidays {Number_of_Holidays}')\n",
    "print(f' Total Days {Number_of_WorkingDays + Number_of_Weekend_Days + Number_of_Holidays}')\n",
    "print(f\" Working Days Average Ride Count: {WorkingDay_Counts_perdiem}, Weekend Days Average Ride Count: {WeekendDay_Counts_perdiem}, Holidays Average Ride Count: {HoliDay_Counts_perdiem}\")"
   ]
  },
  {
   "cell_type": "code",
   "execution_count": 61,
   "id": "b11a530e",
   "metadata": {},
   "outputs": [
    {
     "data": {
      "text/plain": [
       "<BarContainer object of 3 artists>"
      ]
     },
     "execution_count": 61,
     "metadata": {},
     "output_type": "execute_result"
    },
    {
     "data": {
      "image/png": "[encoded data removed]",
      "text/plain": [
       "<Figure size 432x288 with 1 Axes>"
      ]
     },
     "metadata": {
      "needs_background": "light"
     },
     "output_type": "display_data"
    }
   ],
   "source": [
    "# creating the bar chart to visualize the data\n",
    "x = np.arange(len(height))\n",
    "height = [WorkingDay_Counts_perdiem, WeekendDay_Counts_perdiem, HoliDay_Counts_perdiem]\n",
    "tick_locations = [value for value in x]\n",
    "plt.xticks(tick_locations, [\"Working Day\", \"Weekend\", \"Holiday\"])\n",
    "plt.title(\"Average Rentals Per Type of Day\")\n",
    "plt.ylabel('Bike Rental Count')\n",
    "plt.bar(x, height, width=0.35, bottom=None, align='center', data=None)\n",
    "\n"
   ]
  },
  {
   "cell_type": "code",
   "execution_count": 67,
   "id": "0d9c7758-f3e5-43ec-990a-64681f6cb9a7",
   "metadata": {},
   "outputs": [
    {
     "data": {
      "image/png": "[encoded data removed]",
      "text/plain": [
       "<Figure size 432x288 with 1 Axes>"
      ]
     },
     "metadata": {},
     "output_type": "display_data"
    }
   ],
   "source": [
    "labels = 'Working Day', 'Weekend', 'Holiday'\n",
    "sizes = [WorkingDay_Counts_perdiem, WeekendDay_Counts_perdiem, HoliDay_Counts_perdiem]\n",
    "explode = (0.1, 0, 0)\n",
    "\n",
    "fig1, ax1 = plt.subplots()\n",
    "ax1.pie(sizes, explode=explode, labels=labels, autopct='%1.1f%%',\n",
    "        shadow=True, startangle=90)\n",
    "ax1.axis('equal')\n",
    "\n",
    "plt.show()"
   ]
  },
  {
   "cell_type": "code",
   "execution_count": 65,
   "id": "47924194-cb24-4ab4-933d-3e8e4f450b36",
   "metadata": {},
   "outputs": [
    {
     "data": {
      "text/plain": [
       "F_onewayResult(statistic=2.465184866770529, pvalue=0.08570238266758495)"
      ]
     },
     "execution_count": 65,
     "metadata": {},
     "output_type": "execute_result"
    }
   ],
   "source": [
    "# Performing ANOVA test on the number of rentals for each type of day.\n",
    "group1 = WorkingDay_Bike_Share['cnt']\n",
    "group2 = Weekends_Bike_Share['cnt']\n",
    "group3 = Holiday_Bike_Share['cnt']\n",
    "stats.f_oneway(group1, group2, group3)\n"
   ]
  }
 ],
 "metadata": {
  "kernelspec": {
   "display_name": "Python 3",
   "language": "python",
   "name": "python3"
  },
  "language_info": {
   "codemirror_mode": {
    "name": "ipython",
    "version": 3
   },
   "file_extension": ".py",
   "mimetype": "text/x-python",
   "name": "python",
   "nbconvert_exporter": "python",
   "pygments_lexer": "ipython3",
   "version": "3.8.8"
  }
 },
 "nbformat": 4,
 "nbformat_minor": 5
}
