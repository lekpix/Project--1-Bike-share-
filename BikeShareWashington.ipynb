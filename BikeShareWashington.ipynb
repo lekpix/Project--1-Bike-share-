{
 "cells": [
  {
   "cell_type": "code",
   "execution_count": 1,
   "id": "3eba4179",
   "metadata": {},
   "outputs": [],
   "source": [
    "#Dependencies\n",
    "import matplotlib.pyplot as plt\n",
    "import pandas as pd\n",
    "import numpy as np\n",
    "import requests\n",
    "import csv\n",
    "import time\n",
    "import scipy.stats as st\n",
    "from scipy.stats import linregress\n"
   ]
  },
  {
   "cell_type": "code",
   "execution_count": 2,
   "id": "0e78191a",
   "metadata": {},
   "outputs": [
    {
     "name": "stdout",
     "output_type": "stream",
     "text": [
      "   instant      dteday  season  yr  mnth  hr  holiday  weekday  workingday  \\\n",
      "0        1  2011-01-01       1   0     1   0        0        6           0   \n",
      "1        2  2011-01-01       1   0     1   1        0        6           0   \n",
      "2        3  2011-01-01       1   0     1   2        0        6           0   \n",
      "3        4  2011-01-01       1   0     1   3        0        6           0   \n",
      "4        5  2011-01-01       1   0     1   4        0        6           0   \n",
      "\n",
      "   weathersit  temp   atemp   hum  windspeed  casual  registered  cnt  \n",
      "0           1  0.24  0.2879  0.81        0.0       3          13   16  \n",
      "1           1  0.22  0.2727  0.80        0.0       8          32   40  \n",
      "2           1  0.22  0.2727  0.80        0.0       5          27   32  \n",
      "3           1  0.24  0.2879  0.75        0.0       3          10   13  \n",
      "4           1  0.24  0.2879  0.75        0.0       0           1    1  \n"
     ]
    }
   ],
   "source": [
    "## Output File (CSV)\n",
    "data_file_day = \"archive/day.csv\"\n",
    "data_file_hour=\"archive/hour.csv\"\n",
    "#Creating DataFrame\n",
    "Bike_Share_Day=pd.read_csv(data_file_day)\n",
    "Bike_Share_Hour=pd.read_csv(data_file_hour)\n",
    "#print(Bike_Share_Day.head())\n",
    "print(Bike_Share_Hour.head())"
   ]
  },
  {
   "cell_type": "markdown",
   "id": "3f9b9123",
   "metadata": {},
   "source": [
    "# Time of day vs Bike Rentals"
   ]
  },
  {
   "cell_type": "code",
   "execution_count": 3,
   "id": "7de2d575",
   "metadata": {},
   "outputs": [
    {
     "data": {
      "text/html": [
       "<div>\n",
       "<style scoped>\n",
       "    .dataframe tbody tr th:only-of-type {\n",
       "        vertical-align: middle;\n",
       "    }\n",
       "\n",
       "    .dataframe tbody tr th {\n",
       "        vertical-align: top;\n",
       "    }\n",
       "\n",
       "    .dataframe thead th {\n",
       "        text-align: right;\n",
       "    }\n",
       "</style>\n",
       "<table border=\"1\" class=\"dataframe\">\n",
       "  <thead>\n",
       "    <tr style=\"text-align: right;\">\n",
       "      <th></th>\n",
       "      <th>Bikes Count</th>\n",
       "    </tr>\n",
       "    <tr>\n",
       "      <th>hr</th>\n",
       "      <th></th>\n",
       "    </tr>\n",
       "  </thead>\n",
       "  <tbody>\n",
       "    <tr>\n",
       "      <th>0</th>\n",
       "      <td>726</td>\n",
       "    </tr>\n",
       "    <tr>\n",
       "      <th>1</th>\n",
       "      <td>724</td>\n",
       "    </tr>\n",
       "    <tr>\n",
       "      <th>2</th>\n",
       "      <td>715</td>\n",
       "    </tr>\n",
       "    <tr>\n",
       "      <th>3</th>\n",
       "      <td>697</td>\n",
       "    </tr>\n",
       "    <tr>\n",
       "      <th>4</th>\n",
       "      <td>697</td>\n",
       "    </tr>\n",
       "    <tr>\n",
       "      <th>5</th>\n",
       "      <td>717</td>\n",
       "    </tr>\n",
       "    <tr>\n",
       "      <th>6</th>\n",
       "      <td>725</td>\n",
       "    </tr>\n",
       "    <tr>\n",
       "      <th>7</th>\n",
       "      <td>727</td>\n",
       "    </tr>\n",
       "    <tr>\n",
       "      <th>8</th>\n",
       "      <td>727</td>\n",
       "    </tr>\n",
       "    <tr>\n",
       "      <th>9</th>\n",
       "      <td>727</td>\n",
       "    </tr>\n",
       "    <tr>\n",
       "      <th>10</th>\n",
       "      <td>727</td>\n",
       "    </tr>\n",
       "    <tr>\n",
       "      <th>11</th>\n",
       "      <td>727</td>\n",
       "    </tr>\n",
       "    <tr>\n",
       "      <th>12</th>\n",
       "      <td>728</td>\n",
       "    </tr>\n",
       "    <tr>\n",
       "      <th>13</th>\n",
       "      <td>729</td>\n",
       "    </tr>\n",
       "    <tr>\n",
       "      <th>14</th>\n",
       "      <td>729</td>\n",
       "    </tr>\n",
       "    <tr>\n",
       "      <th>15</th>\n",
       "      <td>729</td>\n",
       "    </tr>\n",
       "    <tr>\n",
       "      <th>16</th>\n",
       "      <td>730</td>\n",
       "    </tr>\n",
       "    <tr>\n",
       "      <th>17</th>\n",
       "      <td>730</td>\n",
       "    </tr>\n",
       "    <tr>\n",
       "      <th>18</th>\n",
       "      <td>728</td>\n",
       "    </tr>\n",
       "    <tr>\n",
       "      <th>19</th>\n",
       "      <td>728</td>\n",
       "    </tr>\n",
       "    <tr>\n",
       "      <th>20</th>\n",
       "      <td>728</td>\n",
       "    </tr>\n",
       "    <tr>\n",
       "      <th>21</th>\n",
       "      <td>728</td>\n",
       "    </tr>\n",
       "    <tr>\n",
       "      <th>22</th>\n",
       "      <td>728</td>\n",
       "    </tr>\n",
       "    <tr>\n",
       "      <th>23</th>\n",
       "      <td>728</td>\n",
       "    </tr>\n",
       "  </tbody>\n",
       "</table>\n",
       "</div>"
      ],
      "text/plain": [
       "    Bikes Count\n",
       "hr             \n",
       "0           726\n",
       "1           724\n",
       "2           715\n",
       "3           697\n",
       "4           697\n",
       "5           717\n",
       "6           725\n",
       "7           727\n",
       "8           727\n",
       "9           727\n",
       "10          727\n",
       "11          727\n",
       "12          728\n",
       "13          729\n",
       "14          729\n",
       "15          729\n",
       "16          730\n",
       "17          730\n",
       "18          728\n",
       "19          728\n",
       "20          728\n",
       "21          728\n",
       "22          728\n",
       "23          728"
      ]
     },
     "execution_count": 3,
     "metadata": {},
     "output_type": "execute_result"
    }
   ],
   "source": [
    "Bike_Hour_Count=Bike_Share_Hour.groupby(Bike_Share_Hour['hr']).count()['cnt']\n",
    "Bike_Hour_Count_df=pd.DataFrame({'Bikes Count':Bike_Hour_Count})\n",
    "Bike_Hour_Count_df"
   ]
  },
  {
   "cell_type": "code",
   "execution_count": null,
   "id": "3f8d4eeb",
   "metadata": {},
   "outputs": [],
   "source": []
  },
  {
   "cell_type": "markdown",
   "id": "8d2e8aa2",
   "metadata": {},
   "source": [
    "# Weather patterns vs Bike Rentals"
   ]
  },
  {
   "cell_type": "code",
   "execution_count": null,
   "id": "7b9fcf1f",
   "metadata": {},
   "outputs": [],
   "source": []
  },
  {
   "cell_type": "markdown",
   "id": "8a477127",
   "metadata": {},
   "source": [
    "# Seasons vs Bike Rentals"
   ]
  },
  {
   "cell_type": "code",
   "execution_count": null,
   "id": "90d29c0d",
   "metadata": {},
   "outputs": [],
   "source": []
  },
  {
   "cell_type": "markdown",
   "id": "bdbe5d84",
   "metadata": {},
   "source": [
    "# Weekday versus Weekend  Bike Rentals"
   ]
  },
  {
   "cell_type": "code",
   "execution_count": 77,
   "id": "a2fd90a7",
   "metadata": {},
   "outputs": [
    {
     "name": "stdout",
     "output_type": "stream",
     "text": [
      "Working Days Count: 2292410, Weekend Days Count: 921834 and Holidays Count: 78435\n",
      " OG 3292679, verif 3292679\n",
      " Workingdays 500, Weekends 210, Holidays 21\n",
      " Total Days 731\n",
      " Working Days Average Ride Count: 4584.82, Weekend Days Average Ride Count: 4389.685714285714, Holidays Average Ride Count: 3735.0\n"
     ]
    }
   ],
   "source": [
    "Bike_Share_Day.head(10)\n",
    "Bike_Share_Day_Drop = Bike_Share_Day[['weekday', 'workingday', 'holiday', 'cnt']]\n",
    "Bike_Share_Day_Drop['cnt'].sum()\n",
    "# Number of rentals over the workingdays\n",
    "\n",
    "# Identifying the day types\n",
    "WorkingDay_Bike_Share = Bike_Share_Day_Drop.loc[Bike_Share_Day_Drop['workingday'] == 1]\n",
    "Weekends_Bike_Share = Bike_Share_Day_Drop.loc[(Bike_Share_Day_Drop['weekday'] == 0) | (Bike_Share_Day_Drop['weekday'] == 6)]\n",
    "Holiday_Bike_Share = Bike_Share_Day_Drop.loc[Bike_Share_Day_Drop['holiday'] == 1]\n",
    "\n",
    "# Counting number of rentals per day type\n",
    "WorkingDay_Counts = WorkingDay_Bike_Share['cnt'].sum()\n",
    "WeekendsDay_Counts = Weekends_Bike_Share['cnt'].sum()\n",
    "HolidayDays_Counts = Holiday_Bike_Share['cnt'].sum()\n",
    "\n",
    "# printing results\n",
    "print(f'Working Days Count: {WorkingDay_Counts}, Weekend Days Count: {WeekendsDay_Counts} and Holidays Count: {HolidayDays_Counts}')\n",
    "\n",
    "# Verifying counts\n",
    "totalbike_counts = Bike_Share_Day_Drop['cnt'].sum()\n",
    "totalbike_counts_var = WorkingDay_Counts + WeekendsDay_Counts + HolidayDays_Counts\n",
    "print(f' OG {totalbike_counts}, verif {totalbike_counts_var}')\n",
    "\n",
    "# getting average counts per diem\n",
    "Number_of_WorkingDays = WorkingDay_Bike_Share['cnt'].count()\n",
    "WorkingDay_Counts_perdiem = WorkingDay_Counts/Number_of_WorkingDays\n",
    "\n",
    "Number_of_Weekend_Days = Weekends_Bike_Share['cnt'].count()\n",
    "WeekendDay_Counts_perdiem = WeekendsDay_Counts/Number_of_Weekend_Days\n",
    "\n",
    "Number_of_Holidays = Holiday_Bike_Share['cnt'].count()\n",
    "HoliDay_Counts_perdiem = HolidayDays_Counts/Number_of_Holidays\n",
    "\n",
    "print(f' Workingdays {Number_of_WorkingDays}, Weekends {Number_of_Weekend_Days}, Holidays {Number_of_Holidays}')\n",
    "print(f' Total Days {Number_of_WorkingDays + Number_of_Weekend_Days + Number_of_Holidays}')\n",
    "print(f\" Working Days Average Ride Count: {WorkingDay_Counts_perdiem}, Weekend Days Average Ride Count: {WeekendDay_Counts_perdiem}, Holidays Average Ride Count: {HoliDay_Counts_perdiem}\")"
   ]
  },
  {
   "cell_type": "code",
   "execution_count": 76,
   "id": "8dc90000",
   "metadata": {},
   "outputs": [
    {
     "data": {
      "text/plain": [
       "<BarContainer object of 3 artists>"
      ]
     },
     "execution_count": 76,
     "metadata": {},
     "output_type": "execute_result"
    },
    {
     "data": {
      "image/png": "[encoded data removed]",
      "text/plain": [
       "<Figure size 432x288 with 1 Axes>"
      ]
     },
     "metadata": {
      "needs_background": "light"
     },
     "output_type": "display_data"
    }
   ],
   "source": [
    "x = np.arange(len(x))\n",
    "height = [WorkingDay_Counts_perdiem, WeekendDay_Counts_perdiem, HoliDay_Counts_perdiem]\n",
    "tick_locations = [value for value in x]\n",
    "plt.xticks(tick_locations, [\"Working Day\", \"Weekend\", \"Holiday\"])\n",
    "plt.title(\"Average Rentals Per Type of Day\")\n",
    "plt.bar(x, height, width=0.5, bottom=None, align='center', data=None)"
   ]
  },
  {
   "cell_type": "code",
   "execution_count": 23,
   "id": "2281d48c",
   "metadata": {},
   "outputs": [
    {
     "data": {
      "text/html": [
       "<div>\n",
       "<style scoped>\n",
       "    .dataframe tbody tr th:only-of-type {\n",
       "        vertical-align: middle;\n",
       "    }\n",
       "\n",
       "    .dataframe tbody tr th {\n",
       "        vertical-align: top;\n",
       "    }\n",
       "\n",
       "    .dataframe thead th {\n",
       "        text-align: right;\n",
       "    }\n",
       "</style>\n",
       "<table border=\"1\" class=\"dataframe\">\n",
       "  <thead>\n",
       "    <tr style=\"text-align: right;\">\n",
       "      <th></th>\n",
       "      <th>weekday</th>\n",
       "      <th>workingday</th>\n",
       "      <th>holiday</th>\n",
       "      <th>cnt</th>\n",
       "    </tr>\n",
       "  </thead>\n",
       "  <tbody>\n",
       "    <tr>\n",
       "      <th>0</th>\n",
       "      <td>6</td>\n",
       "      <td>0</td>\n",
       "      <td>0</td>\n",
       "      <td>985</td>\n",
       "    </tr>\n",
       "    <tr>\n",
       "      <th>1</th>\n",
       "      <td>0</td>\n",
       "      <td>0</td>\n",
       "      <td>0</td>\n",
       "      <td>801</td>\n",
       "    </tr>\n",
       "    <tr>\n",
       "      <th>2</th>\n",
       "      <td>1</td>\n",
       "      <td>1</td>\n",
       "      <td>0</td>\n",
       "      <td>1349</td>\n",
       "    </tr>\n",
       "    <tr>\n",
       "      <th>3</th>\n",
       "      <td>2</td>\n",
       "      <td>1</td>\n",
       "      <td>0</td>\n",
       "      <td>1562</td>\n",
       "    </tr>\n",
       "    <tr>\n",
       "      <th>4</th>\n",
       "      <td>3</td>\n",
       "      <td>1</td>\n",
       "      <td>0</td>\n",
       "      <td>1600</td>\n",
       "    </tr>\n",
       "    <tr>\n",
       "      <th>5</th>\n",
       "      <td>4</td>\n",
       "      <td>1</td>\n",
       "      <td>0</td>\n",
       "      <td>1606</td>\n",
       "    </tr>\n",
       "    <tr>\n",
       "      <th>6</th>\n",
       "      <td>5</td>\n",
       "      <td>1</td>\n",
       "      <td>0</td>\n",
       "      <td>1510</td>\n",
       "    </tr>\n",
       "    <tr>\n",
       "      <th>7</th>\n",
       "      <td>6</td>\n",
       "      <td>0</td>\n",
       "      <td>0</td>\n",
       "      <td>959</td>\n",
       "    </tr>\n",
       "    <tr>\n",
       "      <th>8</th>\n",
       "      <td>0</td>\n",
       "      <td>0</td>\n",
       "      <td>0</td>\n",
       "      <td>822</td>\n",
       "    </tr>\n",
       "    <tr>\n",
       "      <th>9</th>\n",
       "      <td>1</td>\n",
       "      <td>1</td>\n",
       "      <td>0</td>\n",
       "      <td>1321</td>\n",
       "    </tr>\n",
       "  </tbody>\n",
       "</table>\n",
       "</div>"
      ],
      "text/plain": [
       "   weekday  workingday  holiday   cnt\n",
       "0        6           0        0   985\n",
       "1        0           0        0   801\n",
       "2        1           1        0  1349\n",
       "3        2           1        0  1562\n",
       "4        3           1        0  1600\n",
       "5        4           1        0  1606\n",
       "6        5           1        0  1510\n",
       "7        6           0        0   959\n",
       "8        0           0        0   822\n",
       "9        1           1        0  1321"
      ]
     },
     "execution_count": 23,
     "metadata": {},
     "output_type": "execute_result"
    }
   ],
   "source": [
    "stats.ttest_ind(population1.vertebrae, population2.vertebrae, equal_var=False) "
   ]
  },
  {
   "cell_type": "markdown",
   "id": "817135c1",
   "metadata": {},
   "source": [
    "# Holiday vs Bike Rentals"
   ]
  },
  {
   "cell_type": "code",
   "execution_count": null,
   "id": "535e235e",
   "metadata": {},
   "outputs": [],
   "source": []
  }
 ],
 "metadata": {
  "kernelspec": {
   "display_name": "Python 3",
   "language": "python",
   "name": "python3"
  },
  "language_info": {
   "codemirror_mode": {
    "name": "ipython",
    "version": 3
   },
   "file_extension": ".py",
   "mimetype": "text/x-python",
   "name": "python",
   "nbconvert_exporter": "python",
   "pygments_lexer": "ipython3",
   "version": "3.8.8"
  }
 },
 "nbformat": 4,
 "nbformat_minor": 5
}
